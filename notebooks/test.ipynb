{
 "cells": [
  {
   "cell_type": "code",
   "execution_count": 1,
   "id": "dd507f70-68a9-462f-b4dc-a26fb288ec1b",
   "metadata": {},
   "outputs": [],
   "source": [
    "%load_ext autoreload\n",
    "%autoreload 2"
   ]
  },
  {
   "cell_type": "code",
   "execution_count": 2,
   "id": "f679831d-d568-423c-bab6-548422e06f28",
   "metadata": {},
   "outputs": [],
   "source": [
    "from pathlib import Path\n",
    "\n",
    "import numpy as np"
   ]
  },
  {
   "cell_type": "code",
   "execution_count": 3,
   "id": "88459048-7ae9-455a-a037-b095428eba67",
   "metadata": {},
   "outputs": [],
   "source": [
    "np.set_printoptions(linewidth=200)"
   ]
  },
  {
   "cell_type": "code",
   "execution_count": 4,
   "id": "b9c7a65c-bf72-4bee-aee5-95b4e75c4feb",
   "metadata": {},
   "outputs": [
    {
     "data": {
      "text/plain": [
       "array([[ 1, -1],\n",
       "       [ 1, -1],\n",
       "       [ 1, -1],\n",
       "       [ 1, -1],\n",
       "       [ 1, -1],\n",
       "       [ 1, -1],\n",
       "       [ 1, -1],\n",
       "       [ 1, -1],\n",
       "       [ 1, -1],\n",
       "       [ 1, -1]])"
      ]
     },
     "execution_count": 4,
     "metadata": {},
     "output_type": "execute_result"
    }
   ],
   "source": [
    "w = np.ones(10) * 0.5\n",
    "d_g = np.array([[1, -1]] * 10)\n",
    "\n",
    "hat_mu = np.arange(20).reshape(10, 2)\n",
    "\n",
    "d_g"
   ]
  },
  {
   "cell_type": "code",
   "execution_count": 5,
   "id": "6e12a672-4794-46f7-8c69-19eb380bb91a",
   "metadata": {},
   "outputs": [
    {
     "data": {
      "text/plain": [
       "array([[ 0.,  4.,  8., 12., 16., 20., 24., 28., 32., 36.],\n",
       "       [ 2.,  6., 10., 14., 18., 22., 26., 30., 34., 38.]])"
      ]
     },
     "execution_count": 5,
     "metadata": {},
     "output_type": "execute_result"
    }
   ],
   "source": [
    "(hat_mu / np.array([w, w]).T).T"
   ]
  },
  {
   "cell_type": "code",
   "execution_count": 13,
   "id": "0dafa448-98f8-49c2-b478-7017819fbda9",
   "metadata": {},
   "outputs": [
    {
     "data": {
      "text/plain": [
       "array([-2., -2., -2., -2., -2., -2., -2., -2., -2., -2.])"
      ]
     },
     "execution_count": 13,
     "metadata": {},
     "output_type": "execute_result"
    }
   ],
   "source": [
    "np.sum(d_g * (hat_mu / np.array([w, w]).T), axis=1)"
   ]
  },
  {
   "cell_type": "code",
   "execution_count": 41,
   "id": "3d79de34-356e-4895-92b2-635cb1d32af3",
   "metadata": {},
   "outputs": [
    {
     "data": {
      "text/plain": [
       "array([1, 3, 5, 7, 9])"
      ]
     },
     "execution_count": 41,
     "metadata": {},
     "output_type": "execute_result"
    }
   ],
   "source": [
    "np.dot(np.arange(10).reshape(5, 2), np.arange(2).reshape(2))"
   ]
  },
  {
   "cell_type": "code",
   "execution_count": 44,
   "id": "514dc106-aee6-4881-b414-ca3b525e1f44",
   "metadata": {},
   "outputs": [],
   "source": [
    "import cvxpy as cvx"
   ]
  },
  {
   "cell_type": "code",
   "execution_count": 47,
   "id": "46e961df-c989-4ba4-b956-8f6a473e7f34",
   "metadata": {},
   "outputs": [],
   "source": [
    "agent_num = 10\n",
    "\n",
    "a = np.ones(10)\n",
    "b = np.ones(10)\n",
    "c = np.ones(10)"
   ]
  },
  {
   "cell_type": "code",
   "execution_count": 50,
   "id": "34500a5e-fe16-4459-834d-e1576fadea20",
   "metadata": {},
   "outputs": [
    {
     "data": {
      "text/plain": [
       "30.0"
      ]
     },
     "execution_count": 50,
     "metadata": {},
     "output_type": "execute_result"
    }
   ],
   "source": [
    "x = np.ones(10)\n",
    "\n",
    "a @ np.square(x) + b @ x + np.sum(c)"
   ]
  },
  {
   "cell_type": "code",
   "execution_count": 57,
   "id": "d6d5953c-eb7e-4f7d-a9e9-397cabe40276",
   "metadata": {},
   "outputs": [
    {
     "data": {
      "text/plain": [
       "47534.0"
      ]
     },
     "execution_count": 57,
     "metadata": {},
     "output_type": "execute_result"
    }
   ],
   "source": [
    "x = cvx.Variable(agent_num)\n",
    "objective = cvx.Minimize(a @ cvx.square(x) + b @ x + np.sum(c))\n",
    "constraints = [x_lower <= x, x <= x_upper]\n",
    "\n",
    "problem = cvx.Problem(objective, constraints)\n",
    "problem.solve()"
   ]
  },
  {
   "cell_type": "code",
   "execution_count": 52,
   "id": "63a4abc1-7d1e-4d06-9431-0efc0041d928",
   "metadata": {},
   "outputs": [],
   "source": [
    "constraint_set_upper: tuple[int] = (300, 350)\n",
    "constraint_set_lower: tuple[int] = (50, 80)\n",
    "\n",
    "x_upper = np.random.randint(*constraint_set_upper, agent_num)\n",
    "x_lower = np.random.randint(*constraint_set_lower, agent_num)"
   ]
  },
  {
   "cell_type": "code",
   "execution_count": 53,
   "id": "ddace243-7202-4747-8663-560933a97fc1",
   "metadata": {},
   "outputs": [
    {
     "data": {
      "text/plain": [
       "array([303, 349, 341, 311, 301, 331, 313, 303, 343, 314])"
      ]
     },
     "execution_count": 53,
     "metadata": {},
     "output_type": "execute_result"
    }
   ],
   "source": []
  },
  {
   "cell_type": "code",
   "execution_count": 60,
   "id": "10134ec2-eb94-4a46-8366-0f69dabce75b",
   "metadata": {},
   "outputs": [],
   "source": [
    "from itertools import cycle\n",
    "from tqdm import tqdm"
   ]
  },
  {
   "cell_type": "code",
   "execution_count": 63,
   "id": "413e8a55-5191-4e52-9f30-689774f1a7bd",
   "metadata": {},
   "outputs": [
    {
     "name": "stderr",
     "output_type": "stream",
     "text": [
      " 70%|██████████████████████████████████████████████████████████████████████████████████████████████████████████████████████████████████████████████████████████████████████████████████████████████▍                                                                                 | 21/30 [00:00<?, ?it/s]"
     ]
    },
    {
     "name": "stdout",
     "output_type": "stream",
     "text": [
      "1\n",
      "2\n",
      "3\n",
      "4\n",
      "5\n",
      "6\n",
      "7\n",
      "8\n",
      "9\n",
      "1\n",
      "2\n",
      "3\n",
      "4\n",
      "5\n",
      "6\n",
      "7\n",
      "8\n",
      "9\n",
      "1\n",
      "2\n",
      "3\n"
     ]
    },
    {
     "name": "stderr",
     "output_type": "stream",
     "text": [
      "\n"
     ]
    }
   ],
   "source": [
    "for i, j in enumerate(tqdm(cycle(range(1, 10)), total = 30)):\n",
    "    if i > 20:\n",
    "        break\n",
    "    print(j)"
   ]
  },
  {
   "cell_type": "code",
   "execution_count": null,
   "id": "d7066fc4-e63c-418f-bb6f-baa325dd5fa9",
   "metadata": {},
   "outputs": [],
   "source": []
  }
 ],
 "metadata": {
  "kernelspec": {
   "display_name": "Python 3 (ipykernel)",
   "language": "python",
   "name": "python3"
  },
  "language_info": {
   "codemirror_mode": {
    "name": "ipython",
    "version": 3
   },
   "file_extension": ".py",
   "mimetype": "text/x-python",
   "name": "python",
   "nbconvert_exporter": "python",
   "pygments_lexer": "ipython3",
   "version": "3.10.5"
  }
 },
 "nbformat": 4,
 "nbformat_minor": 5
}
